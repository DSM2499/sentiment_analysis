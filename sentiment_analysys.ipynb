{
 "cells": [
  {
   "cell_type": "code",
   "execution_count": 4,
   "id": "e679b2cc",
   "metadata": {},
   "outputs": [
    {
     "name": "stderr",
     "output_type": "stream",
     "text": [
      "[nltk_data] Error loading stopwords: <urlopen error [SSL:\n",
      "[nltk_data]     CERTIFICATE_VERIFY_FAILED] certificate verify failed:\n",
      "[nltk_data]     unable to get local issuer certificate (_ssl.c:997)>\n"
     ]
    }
   ],
   "source": [
    "# Importing all necessary modules\n",
    "import pandas as pd\n",
    "import numpy as np\n",
    "import string\n",
    "import re\n",
    "import multiprocessing\n",
    "import warnings\n",
    "\n",
    "import matplotlib.pyplot as plt\n",
    "import seaborn as sns\n",
    "import tensorflow as tf\n",
    "from sklearn.model_selection import train_test_split\n",
    "from tensorflow.keras.preprocessing.text import Tokenizer\n",
    "from tensorflow.keras.preprocessing.sequence import pad_sequences\n",
    "from nltk.corpus import stopwords\n",
    "import nltk\n",
    "\n",
    "# Download NLTK stopwords\n",
    "nltk.download(\"stopwords\")\n",
    "\n",
    "# Set Seaborn style and color palette\n",
    "sns.set(rc={'axes.facecolor': 'cornflowerblue', 'figure.facecolor': 'cornflowerblue'})\n",
    "\n",
    "# Ignore warnings\n",
    "\n",
    "warnings.filterwarnings(\"ignore\")"
   ]
  },
  {
   "cell_type": "code",
   "execution_count": 6,
   "id": "112acd67",
   "metadata": {},
   "outputs": [
    {
     "data": {
      "text/plain": [
       "374"
      ]
     },
     "execution_count": 6,
     "metadata": {},
     "output_type": "execute_result"
    }
   ],
   "source": [
    "# Importing the data\n",
    "full_data = pd.read_csv(\"training.1600000.processed.noemoticon.csv\", \n",
    "                        encoding=\"ISO-8859-1\", \n",
    "                        names=[\"target\", \"ids\", \"date\", \"flag\", \"user\", \"text\"])\n",
    "\n",
    "# Display the first few rows of the dataset\n",
    "full_data.head()\n",
    "\n",
    "# Calculate the maximum length of text entries\n",
    "max_len = max(len(x) for x in full_data['text'])\n",
    "max_len"
   ]
  },
  {
   "cell_type": "code",
   "execution_count": 7,
   "id": "9ae4bb2d",
   "metadata": {},
   "outputs": [],
   "source": [
    "# Taking a sample of 200,000 entries from the dataset\n",
    "data = full_data.sample(200000, random_state=42)"
   ]
  },
  {
   "cell_type": "code",
   "execution_count": 8,
   "id": "329b4bc6",
   "metadata": {},
   "outputs": [
    {
     "data": {
      "text/html": [
       "<div>\n",
       "<style scoped>\n",
       "    .dataframe tbody tr th:only-of-type {\n",
       "        vertical-align: middle;\n",
       "    }\n",
       "\n",
       "    .dataframe tbody tr th {\n",
       "        vertical-align: top;\n",
       "    }\n",
       "\n",
       "    .dataframe thead th {\n",
       "        text-align: right;\n",
       "    }\n",
       "</style>\n",
       "<table border=\"1\" class=\"dataframe\">\n",
       "  <thead>\n",
       "    <tr style=\"text-align: right;\">\n",
       "      <th></th>\n",
       "      <th>target</th>\n",
       "      <th>ids</th>\n",
       "      <th>date</th>\n",
       "      <th>flag</th>\n",
       "      <th>user</th>\n",
       "      <th>text</th>\n",
       "    </tr>\n",
       "  </thead>\n",
       "  <tbody>\n",
       "    <tr>\n",
       "      <th>count</th>\n",
       "      <td>200000.000000</td>\n",
       "      <td>2.000000e+05</td>\n",
       "      <td>200000</td>\n",
       "      <td>200000</td>\n",
       "      <td>200000</td>\n",
       "      <td>200000</td>\n",
       "    </tr>\n",
       "    <tr>\n",
       "      <th>unique</th>\n",
       "      <td>NaN</td>\n",
       "      <td>NaN</td>\n",
       "      <td>175012</td>\n",
       "      <td>1</td>\n",
       "      <td>148283</td>\n",
       "      <td>199166</td>\n",
       "    </tr>\n",
       "    <tr>\n",
       "      <th>top</th>\n",
       "      <td>NaN</td>\n",
       "      <td>NaN</td>\n",
       "      <td>Mon Jun 01 11:08:39 PDT 2009</td>\n",
       "      <td>NO_QUERY</td>\n",
       "      <td>lost_dog</td>\n",
       "      <td>isPlayer Has Died! Sorry</td>\n",
       "    </tr>\n",
       "    <tr>\n",
       "      <th>freq</th>\n",
       "      <td>NaN</td>\n",
       "      <td>NaN</td>\n",
       "      <td>7</td>\n",
       "      <td>200000</td>\n",
       "      <td>72</td>\n",
       "      <td>31</td>\n",
       "    </tr>\n",
       "    <tr>\n",
       "      <th>mean</th>\n",
       "      <td>2.002860</td>\n",
       "      <td>1.999372e+09</td>\n",
       "      <td>NaN</td>\n",
       "      <td>NaN</td>\n",
       "      <td>NaN</td>\n",
       "      <td>NaN</td>\n",
       "    </tr>\n",
       "    <tr>\n",
       "      <th>std</th>\n",
       "      <td>2.000003</td>\n",
       "      <td>1.933568e+08</td>\n",
       "      <td>NaN</td>\n",
       "      <td>NaN</td>\n",
       "      <td>NaN</td>\n",
       "      <td>NaN</td>\n",
       "    </tr>\n",
       "    <tr>\n",
       "      <th>min</th>\n",
       "      <td>0.000000</td>\n",
       "      <td>1.467813e+09</td>\n",
       "      <td>NaN</td>\n",
       "      <td>NaN</td>\n",
       "      <td>NaN</td>\n",
       "      <td>NaN</td>\n",
       "    </tr>\n",
       "    <tr>\n",
       "      <th>25%</th>\n",
       "      <td>0.000000</td>\n",
       "      <td>1.957136e+09</td>\n",
       "      <td>NaN</td>\n",
       "      <td>NaN</td>\n",
       "      <td>NaN</td>\n",
       "      <td>NaN</td>\n",
       "    </tr>\n",
       "    <tr>\n",
       "      <th>50%</th>\n",
       "      <td>4.000000</td>\n",
       "      <td>2.002150e+09</td>\n",
       "      <td>NaN</td>\n",
       "      <td>NaN</td>\n",
       "      <td>NaN</td>\n",
       "      <td>NaN</td>\n",
       "    </tr>\n",
       "    <tr>\n",
       "      <th>75%</th>\n",
       "      <td>4.000000</td>\n",
       "      <td>2.177196e+09</td>\n",
       "      <td>NaN</td>\n",
       "      <td>NaN</td>\n",
       "      <td>NaN</td>\n",
       "      <td>NaN</td>\n",
       "    </tr>\n",
       "    <tr>\n",
       "      <th>max</th>\n",
       "      <td>4.000000</td>\n",
       "      <td>2.329205e+09</td>\n",
       "      <td>NaN</td>\n",
       "      <td>NaN</td>\n",
       "      <td>NaN</td>\n",
       "      <td>NaN</td>\n",
       "    </tr>\n",
       "  </tbody>\n",
       "</table>\n",
       "</div>"
      ],
      "text/plain": [
       "               target           ids                          date      flag  \\\n",
       "count   200000.000000  2.000000e+05                        200000    200000   \n",
       "unique            NaN           NaN                        175012         1   \n",
       "top               NaN           NaN  Mon Jun 01 11:08:39 PDT 2009  NO_QUERY   \n",
       "freq              NaN           NaN                             7    200000   \n",
       "mean         2.002860  1.999372e+09                           NaN       NaN   \n",
       "std          2.000003  1.933568e+08                           NaN       NaN   \n",
       "min          0.000000  1.467813e+09                           NaN       NaN   \n",
       "25%          0.000000  1.957136e+09                           NaN       NaN   \n",
       "50%          4.000000  2.002150e+09                           NaN       NaN   \n",
       "75%          4.000000  2.177196e+09                           NaN       NaN   \n",
       "max          4.000000  2.329205e+09                           NaN       NaN   \n",
       "\n",
       "            user                       text  \n",
       "count     200000                     200000  \n",
       "unique    148283                     199166  \n",
       "top     lost_dog  isPlayer Has Died! Sorry   \n",
       "freq          72                         31  \n",
       "mean         NaN                        NaN  \n",
       "std          NaN                        NaN  \n",
       "min          NaN                        NaN  \n",
       "25%          NaN                        NaN  \n",
       "50%          NaN                        NaN  \n",
       "75%          NaN                        NaN  \n",
       "max          NaN                        NaN  "
      ]
     },
     "execution_count": 8,
     "metadata": {},
     "output_type": "execute_result"
    }
   ],
   "source": [
    "# Generating descriptive statistics for the dataset, including all columns\n",
    "data.describe(include=\"all\")"
   ]
  },
  {
   "cell_type": "code",
   "execution_count": 10,
   "id": "0fac5b0b",
   "metadata": {},
   "outputs": [
    {
     "data": {
      "image/png": "[encoded data removed]",
      "text/plain": [
       "<Figure size 640x480 with 1 Axes>"
      ]
     },
     "metadata": {},
     "output_type": "display_data"
    }
   ],
   "source": [
    "# Plotting the distribution of the target variable with a custom color scheme\n",
    "sns.countplot(x=data['target'], palette='coolwarm')\n",
    "\n",
    "# Adding a title and labels to the plot\n",
    "plt.title('Distribution of Sentiments')\n",
    "plt.xlabel('Sentiment')\n",
    "plt.ylabel('Count')\n",
    "plt.show()\n",
    "\n",
    "# This shows that the data is equally distributed between positive and negative sentiments."
   ]
  },
  {
   "cell_type": "code",
   "execution_count": 11,
   "id": "7ece9bb6",
   "metadata": {},
   "outputs": [],
   "source": [
    "# Dropping columns that cannot be used for analysis\n",
    "data = data.drop(['ids', 'date', 'flag', 'user'], axis=1)"
   ]
  },
  {
   "cell_type": "code",
   "execution_count": 12,
   "id": "8aecd1b8",
   "metadata": {},
   "outputs": [],
   "source": [
    "# Converting the target variable to binary classification\n",
    "data['target'] = data['target'].replace(4, 1)\n",
    "\n",
    "# Here, 4 represents positive sentiment. Converting it to 1 for binary classification."
   ]
  },
  {
   "cell_type": "code",
   "execution_count": 13,
   "id": "329789c1",
   "metadata": {},
   "outputs": [],
   "source": [
    "# Splitting the data into features (X) and target (y)\n",
    "X = data[\"text\"]\n",
    "y = data[\"target\"].values"
   ]
  },
  {
   "cell_type": "code",
   "execution_count": 14,
   "id": "9811ba55",
   "metadata": {},
   "outputs": [
    {
     "name": "stdout",
     "output_type": "stream",
     "text": [
      "@misstoriblack cool , i have no tweet apps  for my razr 2\n"
     ]
    }
   ],
   "source": [
    "# Displaying the first line of the feature data\n",
    "first_line = X.iloc[1]\n",
    "print(first_line)\n",
    "\n",
    "# This is the first line of our data."
   ]
  },
  {
   "cell_type": "code",
   "execution_count": 15,
   "id": "4d0d1599",
   "metadata": {},
   "outputs": [],
   "source": [
    "# Defining functions used for cleaning the data\n",
    "\n",
    "def text_splitting(text):\n",
    "    \"\"\"Splits text into words based on white spaces.\"\"\"\n",
    "    return text.split()\n",
    "\n",
    "def lower_case(words):\n",
    "    \"\"\"Converts all words to lower case for uniformity.\"\"\"\n",
    "    return [word.lower() for word in words]\n",
    "\n",
    "def remove_punctuation(words):\n",
    "    \"\"\"Removes punctuation marks from the words.\"\"\"\n",
    "    reg_punc = re.compile('[%s]' % re.escape(string.punctuation))  # Regex to remove punctuations\n",
    "    return [reg_punc.sub('', w) for w in words]\n",
    "\n",
    "def only_alphabets(words):\n",
    "    \"\"\"Keeps only alphabetic words, removing digits.\"\"\"\n",
    "    return [word for word in words if word.isalpha()]\n",
    "\n",
    "def remove_stopwords(words):\n",
    "    \"\"\"Removes stop words like 'and', 'of', 'is', etc.\"\"\"\n",
    "    stop_words = set(stopwords.words('english'))\n",
    "    return [w for w in words if w not in stop_words]\n",
    "\n",
    "def to_sentence(words):\n",
    "    \"\"\"Joins split words back into a sentence.\"\"\"\n",
    "    return ' '.join(words)\n",
    "\n",
    "def remove_noise(text):\n",
    "    \"\"\"Cleans text by applying all the preprocessing steps.\"\"\"\n",
    "    words = text_splitting(text)\n",
    "    words = lower_case(words)\n",
    "    words = remove_punctuation(words)\n",
    "    words = only_alphabets(words)\n",
    "    words = remove_stopwords(words)\n",
    "    return to_sentence(words)"
   ]
  },
  {
   "cell_type": "code",
   "execution_count": 16,
   "id": "bc45f799",
   "metadata": {},
   "outputs": [
    {
     "data": {
      "text/plain": [
       "541200                           chrishasboobs ahhh hope ok\n",
       "750                      misstoriblack cool tweet apps razr\n",
       "766711    tiannachaos know family drama lamehey next tim...\n",
       "285055    school email wont open geography stuff revise ...\n",
       "705995                                upper airways problem\n",
       "Name: text, dtype: object"
      ]
     },
     "execution_count": 16,
     "metadata": {},
     "output_type": "execute_result"
    }
   ],
   "source": [
    "# Applying all cleaning functions to the features\n",
    "X_cleaned = X.apply(remove_noise)\n",
    "\n",
    "# Displaying the first few rows of the cleaned data\n",
    "X_cleaned.head()"
   ]
  },
  {
   "cell_type": "code",
   "execution_count": 17,
   "id": "358f38ff",
   "metadata": {},
   "outputs": [],
   "source": [
    "# Splitting the data into training, validation, and test sets\n",
    "X_temp, X_test, y_temp, y_test = train_test_split(X_cleaned, y, test_size=0.20, random_state=272, stratify=y)\n",
    "X_train, X_val, y_train, y_val = train_test_split(X_temp, y_temp, test_size=0.2, random_state=272, stratify=y_temp)"
   ]
  },
  {
   "cell_type": "code",
   "execution_count": 18,
   "id": "4bffc90d",
   "metadata": {},
   "outputs": [
    {
     "data": {
      "text/plain": [
       "116482"
      ]
     },
     "execution_count": 18,
     "metadata": {},
     "output_type": "execute_result"
    }
   ],
   "source": [
    "# Creating tokens for training the model\n",
    "tokenizer = Tokenizer(num_words=20000, oov_token=\"<OOV>\")\n",
    "tokenizer.fit_on_texts(X_train)\n",
    "\n",
    "# Calculating the vocabulary size\n",
    "vocab_size = len(tokenizer.word_index) + 1\n",
    "vocab_size"
   ]
  },
  {
   "cell_type": "code",
   "execution_count": 19,
   "id": "779e0fab",
   "metadata": {},
   "outputs": [
    {
     "name": "stdout",
     "output_type": "stream",
     "text": [
      "Maximum length in training data: 140\n",
      "Maximum length in testing data: 127\n",
      "Maximum length in validation data: 131\n"
     ]
    },
    {
     "data": {
      "text/plain": [
       "864108    joepolitics im sure well celebrating hard plus...\n",
       "541193    djsouthanbred oh thats whats babeno havent yea...\n",
       "363137    lmfaoooo illmaticp came barbiebanga sorry laug...\n",
       "124021    still raining windy come wife goes mountain bi...\n",
       "127109                                           college xx\n",
       "Name: text, dtype: object"
      ]
     },
     "execution_count": 19,
     "metadata": {},
     "output_type": "execute_result"
    }
   ],
   "source": [
    "# Determining the longest text in the training, validation, and testing data for model parameters\n",
    "maxlen_train = max(len(x) for x in X_train)\n",
    "maxlen_test = max(len(x) for x in X_test)\n",
    "maxlen_val = max(len(x) for x in X_val)\n",
    "\n",
    "# Display the longest text lengths\n",
    "print(\"Maximum length in training data:\", maxlen_train)\n",
    "print(\"Maximum length in testing data:\", maxlen_test)\n",
    "print(\"Maximum length in validation data:\", maxlen_val)\n",
    "\n",
    "# Displaying the first few rows of the training data\n",
    "X_train.head()"
   ]
  },
  {
   "cell_type": "code",
   "execution_count": 20,
   "id": "6910d6ea",
   "metadata": {},
   "outputs": [],
   "source": [
    "# Creating sequences for training, validation, and testing data\n",
    "training_sequence = tokenizer.texts_to_sequences(X_train)\n",
    "training_sequence_padded = pad_sequences(training_sequence, maxlen=maxlen_train, padding='post', truncating='post')\n",
    "\n",
    "test_sequence = tokenizer.texts_to_sequences(X_test)\n",
    "test_sequence_padded = pad_sequences(test_sequence, maxlen=maxlen_train, padding='post', truncating='post')\n",
    "\n",
    "val_sequence = tokenizer.texts_to_sequences(X_val)\n",
    "val_sequence_padded = pad_sequences(val_sequence, maxlen=maxlen_train, padding='post', truncating='post')"
   ]
  },
  {
   "cell_type": "code",
   "execution_count": 21,
   "id": "e250be5d",
   "metadata": {},
   "outputs": [],
   "source": [
    "# Creating the model\n",
    "model = tf.keras.Sequential([\n",
    "    tf.keras.layers.Embedding(input_dim=vocab_size + 1, output_dim=32, input_length=maxlen_train),\n",
    "    tf.keras.layers.Bidirectional(tf.keras.layers.LSTM(16)),\n",
    "    tf.keras.layers.Flatten(),\n",
    "    tf.keras.layers.BatchNormalization(),\n",
    "    tf.keras.layers.Dropout(0.30),\n",
    "    tf.keras.layers.Dense(32, activation='relu'),\n",
    "    tf.keras.layers.BatchNormalization(),\n",
    "    tf.keras.layers.Dropout(0.30),\n",
    "    tf.keras.layers.Dense(8, activation='relu'),\n",
    "    tf.keras.layers.Dense(1, activation='sigmoid'),\n",
    "])\n",
    "\n",
    "# Compiling the model\n",
    "model.compile(\n",
    "    loss='binary_crossentropy',\n",
    "    optimizer='adam',\n",
    "    metrics=['accuracy']\n",
    ")"
   ]
  },
  {
   "cell_type": "code",
   "execution_count": 22,
   "id": "025a609f",
   "metadata": {},
   "outputs": [
    {
     "name": "stdout",
     "output_type": "stream",
     "text": [
      "Model: \"sequential\"\n",
      "_________________________________________________________________\n",
      " Layer (type)                Output Shape              Param #   \n",
      "=================================================================\n",
      " embedding (Embedding)       (None, 140, 32)           3727456   \n",
      "                                                                 \n",
      " bidirectional (Bidirection  (None, 32)                6272      \n",
      " al)                                                             \n",
      "                                                                 \n",
      " flatten (Flatten)           (None, 32)                0         \n",
      "                                                                 \n",
      " batch_normalization (Batch  (None, 32)                128       \n",
      " Normalization)                                                  \n",
      "                                                                 \n",
      " dropout (Dropout)           (None, 32)                0         \n",
      "                                                                 \n",
      " dense (Dense)               (None, 32)                1056      \n",
      "                                                                 \n",
      " batch_normalization_1 (Bat  (None, 32)                128       \n",
      " chNormalization)                                                \n",
      "                                                                 \n",
      " dropout_1 (Dropout)         (None, 32)                0         \n",
      "                                                                 \n",
      " dense_1 (Dense)             (None, 8)                 264       \n",
      "                                                                 \n",
      " dense_2 (Dense)             (None, 1)                 9         \n",
      "                                                                 \n",
      "=================================================================\n",
      "Total params: 3735313 (14.25 MB)\n",
      "Trainable params: 3735185 (14.25 MB)\n",
      "Non-trainable params: 128 (512.00 Byte)\n",
      "_________________________________________________________________\n"
     ]
    }
   ],
   "source": [
    "# Displaying the summary of the model\n",
    "model.summary()"
   ]
  },
  {
   "cell_type": "code",
   "execution_count": 23,
   "id": "cb390a6f",
   "metadata": {},
   "outputs": [
    {
     "name": "stdout",
     "output_type": "stream",
     "text": [
      "Epoch 1/10\n",
      "4000/4000 [==============================] - 71s 17ms/step - loss: 0.5455 - accuracy: 0.7272 - val_loss: 0.6012 - val_accuracy: 0.6731\n",
      "Epoch 2/10\n",
      "4000/4000 [==============================] - 68s 17ms/step - loss: 0.4666 - accuracy: 0.7806 - val_loss: 0.4780 - val_accuracy: 0.7679\n",
      "Epoch 3/10\n",
      "4000/4000 [==============================] - 69s 17ms/step - loss: 0.4288 - accuracy: 0.8015 - val_loss: 0.4873 - val_accuracy: 0.7658\n",
      "Epoch 4/10\n",
      "4000/4000 [==============================] - 69s 17ms/step - loss: 0.3925 - accuracy: 0.8203 - val_loss: 0.5215 - val_accuracy: 0.7689\n",
      "Epoch 5/10\n",
      "4000/4000 [==============================] - 70s 17ms/step - loss: 0.3599 - accuracy: 0.8351 - val_loss: 0.5145 - val_accuracy: 0.7624\n",
      "Epoch 6/10\n",
      "4000/4000 [==============================] - 70s 17ms/step - loss: 0.3313 - accuracy: 0.8509 - val_loss: 0.5720 - val_accuracy: 0.7567\n",
      "Epoch 7/10\n",
      "4000/4000 [==============================] - 70s 17ms/step - loss: 0.3063 - accuracy: 0.8621 - val_loss: 0.5819 - val_accuracy: 0.7505\n",
      "Epoch 8/10\n",
      "4000/4000 [==============================] - 71s 18ms/step - loss: 0.2859 - accuracy: 0.8741 - val_loss: 0.6346 - val_accuracy: 0.7445\n",
      "Epoch 9/10\n",
      "4000/4000 [==============================] - 72s 18ms/step - loss: 0.2658 - accuracy: 0.8826 - val_loss: 0.6348 - val_accuracy: 0.7483\n",
      "Epoch 10/10\n",
      "4000/4000 [==============================] - 72s 18ms/step - loss: 0.2499 - accuracy: 0.8907 - val_loss: 0.6896 - val_accuracy: 0.7459\n"
     ]
    }
   ],
   "source": [
    "# Training the model\n",
    "history = model.fit(\n",
    "    training_sequence_padded, y_train,\n",
    "    validation_data=(val_sequence_padded, y_val),\n",
    "    epochs=10,\n",
    "    batch_size=32,  # Added batch size for better performance\n",
    "    verbose=1       # Added verbosity to show training progress\n",
    ")"
   ]
  },
  {
   "cell_type": "code",
   "execution_count": 24,
   "id": "5df44c7d",
   "metadata": {},
   "outputs": [
    {
     "name": "stdout",
     "output_type": "stream",
     "text": [
      "1250/1250 [==============================] - 4s 3ms/step - loss: 0.6931 - accuracy: 0.7431\n",
      "Accuracy on testing set = 0.7430750131607056\n"
     ]
    },
    {
     "data": {
      "image/png": "[encoded data removed]",
      "text/plain": [
       "<Figure size 640x480 with 1 Axes>"
      ]
     },
     "metadata": {},
     "output_type": "display_data"
    },
    {
     "data": {
      "image/png": "[encoded data removed]",
      "text/plain": [
       "<Figure size 640x480 with 1 Axes>"
      ]
     },
     "metadata": {},
     "output_type": "display_data"
    }
   ],
   "source": [
    "# Evaluating the model on the test set\n",
    "loss, accuracy = model.evaluate(test_sequence_padded, y_test)\n",
    "print(\"Accuracy on testing set =\", accuracy)\n",
    "\n",
    "# Function to plot accuracy and loss graphs\n",
    "def plot_graphs(history, metric):\n",
    "    plt.plot(history.history[metric])\n",
    "    plt.plot(history.history['val_' + metric])\n",
    "    plt.xlabel(\"Epochs\")\n",
    "    plt.ylabel(metric.capitalize())\n",
    "    plt.legend([metric.capitalize(), 'Val_' + metric.capitalize()])\n",
    "    plt.title(f'{metric.capitalize()} over Epochs')\n",
    "    plt.show()\n",
    "\n",
    "# Plot the accuracy and loss\n",
    "plot_graphs(history, \"accuracy\")\n",
    "plot_graphs(history, \"loss\")"
   ]
  }
 ],
 "metadata": {
  "kernelspec": {
   "display_name": "Python 3 (ipykernel)",
   "language": "python",
   "name": "python3"
  },
  "language_info": {
   "codemirror_mode": {
    "name": "ipython",
    "version": 3
   },
   "file_extension": ".py",
   "mimetype": "text/x-python",
   "name": "python",
   "nbconvert_exporter": "python",
   "pygments_lexer": "ipython3",
   "version": "3.10.6"
  }
 },
 "nbformat": 4,
 "nbformat_minor": 5
}
