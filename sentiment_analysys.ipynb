{
 "cells": [
  {
   "cell_type": "code",
   "execution_count": 29,
   "id": "e679b2cc",
   "metadata": {},
   "outputs": [
    {
     "name": "stderr",
     "output_type": "stream",
     "text": [
      "[nltk_data] Downloading package stopwords to\n",
      "[nltk_data]     /Users/dinakarmurthy/nltk_data...\n",
      "[nltk_data]   Package stopwords is already up-to-date!\n"
     ]
    }
   ],
   "source": [
    "#Importing all necessary modules\n",
    "import pandas as pd\n",
    "import numpy as np\n",
    "import string\n",
    "from tensorflow.keras.preprocessing.text import Tokenizer\n",
    "from tensorflow.keras.preprocessing.sequence import pad_sequences\n",
    "import matplotlib.pyplot as plt\n",
    "import seaborn as sns\n",
    "from nltk.corpus import stopwords\n",
    "import nltk\n",
    "import re\n",
    "import multiprocessing\n",
    "import tensorflow as tf\n",
    "from sklearn.model_selection import train_test_split\n",
    "nltk.download(\"stopwords\")\n",
    "sns.set(rc={'axes.facecolor':'cornflowerblue', 'figure.facecolor':'cornflowerblue'})\n",
    "\n",
    "import warnings\n",
    "warnings.filterwarnings(\"ignore\")"
   ]
  },
  {
   "cell_type": "code",
   "execution_count": 30,
   "id": "112acd67",
   "metadata": {},
   "outputs": [
    {
     "data": {
      "text/plain": [
       "374"
      ]
     },
     "execution_count": 30,
     "metadata": {},
     "output_type": "execute_result"
    }
   ],
   "source": [
    "#Importing the data\n",
    "Full_data = pd.read_csv(\"training.1600000.processed.noemoticon.csv\", \n",
    "                   encoding = \"ISO-8859-1\", \n",
    "                   names = [\"target\", \"ids\", \"date\", \"flag\", \"user\", \"text\"])\n",
    "Full_data.head()\n",
    "max_len = max([len(x) for x in Full_data['text']])\n",
    "max_len"
   ]
  },
  {
   "cell_type": "code",
   "execution_count": 31,
   "id": "9ae4bb2d",
   "metadata": {},
   "outputs": [],
   "source": [
    "# taking 200000 from the dataset\n",
    "data = Full_data.sample(200000)"
   ]
  },
  {
   "cell_type": "code",
   "execution_count": 32,
   "id": "329b4bc6",
   "metadata": {},
   "outputs": [
    {
     "data": {
      "text/html": [
       "<div>\n",
       "<style scoped>\n",
       "    .dataframe tbody tr th:only-of-type {\n",
       "        vertical-align: middle;\n",
       "    }\n",
       "\n",
       "    .dataframe tbody tr th {\n",
       "        vertical-align: top;\n",
       "    }\n",
       "\n",
       "    .dataframe thead th {\n",
       "        text-align: right;\n",
       "    }\n",
       "</style>\n",
       "<table border=\"1\" class=\"dataframe\">\n",
       "  <thead>\n",
       "    <tr style=\"text-align: right;\">\n",
       "      <th></th>\n",
       "      <th>target</th>\n",
       "      <th>ids</th>\n",
       "      <th>date</th>\n",
       "      <th>flag</th>\n",
       "      <th>user</th>\n",
       "      <th>text</th>\n",
       "    </tr>\n",
       "  </thead>\n",
       "  <tbody>\n",
       "    <tr>\n",
       "      <th>count</th>\n",
       "      <td>200000.000000</td>\n",
       "      <td>2.000000e+05</td>\n",
       "      <td>200000</td>\n",
       "      <td>200000</td>\n",
       "      <td>200000</td>\n",
       "      <td>200000</td>\n",
       "    </tr>\n",
       "    <tr>\n",
       "      <th>unique</th>\n",
       "      <td>NaN</td>\n",
       "      <td>NaN</td>\n",
       "      <td>175401</td>\n",
       "      <td>1</td>\n",
       "      <td>148225</td>\n",
       "      <td>199138</td>\n",
       "    </tr>\n",
       "    <tr>\n",
       "      <th>top</th>\n",
       "      <td>NaN</td>\n",
       "      <td>NaN</td>\n",
       "      <td>Fri May 29 19:53:13 PDT 2009</td>\n",
       "      <td>NO_QUERY</td>\n",
       "      <td>lost_dog</td>\n",
       "      <td>isPlayer Has Died! Sorry</td>\n",
       "    </tr>\n",
       "    <tr>\n",
       "      <th>freq</th>\n",
       "      <td>NaN</td>\n",
       "      <td>NaN</td>\n",
       "      <td>6</td>\n",
       "      <td>200000</td>\n",
       "      <td>60</td>\n",
       "      <td>35</td>\n",
       "    </tr>\n",
       "    <tr>\n",
       "      <th>mean</th>\n",
       "      <td>2.003440</td>\n",
       "      <td>1.998367e+09</td>\n",
       "      <td>NaN</td>\n",
       "      <td>NaN</td>\n",
       "      <td>NaN</td>\n",
       "      <td>NaN</td>\n",
       "    </tr>\n",
       "    <tr>\n",
       "      <th>std</th>\n",
       "      <td>2.000002</td>\n",
       "      <td>1.935915e+08</td>\n",
       "      <td>NaN</td>\n",
       "      <td>NaN</td>\n",
       "      <td>NaN</td>\n",
       "      <td>NaN</td>\n",
       "    </tr>\n",
       "    <tr>\n",
       "      <th>min</th>\n",
       "      <td>0.000000</td>\n",
       "      <td>1.467811e+09</td>\n",
       "      <td>NaN</td>\n",
       "      <td>NaN</td>\n",
       "      <td>NaN</td>\n",
       "      <td>NaN</td>\n",
       "    </tr>\n",
       "    <tr>\n",
       "      <th>25%</th>\n",
       "      <td>0.000000</td>\n",
       "      <td>1.956901e+09</td>\n",
       "      <td>NaN</td>\n",
       "      <td>NaN</td>\n",
       "      <td>NaN</td>\n",
       "      <td>NaN</td>\n",
       "    </tr>\n",
       "    <tr>\n",
       "      <th>50%</th>\n",
       "      <td>4.000000</td>\n",
       "      <td>2.001925e+09</td>\n",
       "      <td>NaN</td>\n",
       "      <td>NaN</td>\n",
       "      <td>NaN</td>\n",
       "      <td>NaN</td>\n",
       "    </tr>\n",
       "    <tr>\n",
       "      <th>75%</th>\n",
       "      <td>4.000000</td>\n",
       "      <td>2.176897e+09</td>\n",
       "      <td>NaN</td>\n",
       "      <td>NaN</td>\n",
       "      <td>NaN</td>\n",
       "      <td>NaN</td>\n",
       "    </tr>\n",
       "    <tr>\n",
       "      <th>max</th>\n",
       "      <td>4.000000</td>\n",
       "      <td>2.329205e+09</td>\n",
       "      <td>NaN</td>\n",
       "      <td>NaN</td>\n",
       "      <td>NaN</td>\n",
       "      <td>NaN</td>\n",
       "    </tr>\n",
       "  </tbody>\n",
       "</table>\n",
       "</div>"
      ],
      "text/plain": [
       "               target           ids                          date      flag  \\\n",
       "count   200000.000000  2.000000e+05                        200000    200000   \n",
       "unique            NaN           NaN                        175401         1   \n",
       "top               NaN           NaN  Fri May 29 19:53:13 PDT 2009  NO_QUERY   \n",
       "freq              NaN           NaN                             6    200000   \n",
       "mean         2.003440  1.998367e+09                           NaN       NaN   \n",
       "std          2.000002  1.935915e+08                           NaN       NaN   \n",
       "min          0.000000  1.467811e+09                           NaN       NaN   \n",
       "25%          0.000000  1.956901e+09                           NaN       NaN   \n",
       "50%          4.000000  2.001925e+09                           NaN       NaN   \n",
       "75%          4.000000  2.176897e+09                           NaN       NaN   \n",
       "max          4.000000  2.329205e+09                           NaN       NaN   \n",
       "\n",
       "            user                       text  \n",
       "count     200000                     200000  \n",
       "unique    148225                     199138  \n",
       "top     lost_dog  isPlayer Has Died! Sorry   \n",
       "freq          60                         35  \n",
       "mean         NaN                        NaN  \n",
       "std          NaN                        NaN  \n",
       "min          NaN                        NaN  \n",
       "25%          NaN                        NaN  \n",
       "50%          NaN                        NaN  \n",
       "75%          NaN                        NaN  \n",
       "max          NaN                        NaN  "
      ]
     },
     "execution_count": 32,
     "metadata": {},
     "output_type": "execute_result"
    }
   ],
   "source": [
    "data.describe(include = \"all\")"
   ]
  },
  {
   "cell_type": "code",
   "execution_count": 33,
   "id": "0fac5b0b",
   "metadata": {},
   "outputs": [
    {
     "data": {
      "image/png": "[encoded data removed]",
      "text/plain": [
       "<Figure size 432x288 with 1 Axes>"
      ]
     },
     "metadata": {},
     "output_type": "display_data"
    }
   ],
   "source": [
    "sns.countplot(x = data['target']);\n",
    "#This show that the data is equally distributed between positive and negetive sentiments."
   ]
  },
  {
   "cell_type": "code",
   "execution_count": 34,
   "id": "7ece9bb6",
   "metadata": {},
   "outputs": [
    {
     "data": {
      "text/html": [
       "<div>\n",
       "<style scoped>\n",
       "    .dataframe tbody tr th:only-of-type {\n",
       "        vertical-align: middle;\n",
       "    }\n",
       "\n",
       "    .dataframe tbody tr th {\n",
       "        vertical-align: top;\n",
       "    }\n",
       "\n",
       "    .dataframe thead th {\n",
       "        text-align: right;\n",
       "    }\n",
       "</style>\n",
       "<table border=\"1\" class=\"dataframe\">\n",
       "  <thead>\n",
       "    <tr style=\"text-align: right;\">\n",
       "      <th></th>\n",
       "      <th>target</th>\n",
       "      <th>text</th>\n",
       "    </tr>\n",
       "  </thead>\n",
       "  <tbody>\n",
       "    <tr>\n",
       "      <th>1171434</th>\n",
       "      <td>4</td>\n",
       "      <td>@davebaldwin you can create groups in PB Lite ...</td>\n",
       "    </tr>\n",
       "    <tr>\n",
       "      <th>499841</th>\n",
       "      <td>0</td>\n",
       "      <td>@fErNniii yep, our home computer is broke, so ...</td>\n",
       "    </tr>\n",
       "    <tr>\n",
       "      <th>315692</th>\n",
       "      <td>0</td>\n",
       "      <td>@ryszu I'm happy to submit patches for broken ...</td>\n",
       "    </tr>\n",
       "    <tr>\n",
       "      <th>1276663</th>\n",
       "      <td>4</td>\n",
       "      <td>GoodNight All</td>\n",
       "    </tr>\n",
       "    <tr>\n",
       "      <th>1581913</th>\n",
       "      <td>4</td>\n",
       "      <td>jonas brothers was amazing</td>\n",
       "    </tr>\n",
       "    <tr>\n",
       "      <th>...</th>\n",
       "      <td>...</td>\n",
       "      <td>...</td>\n",
       "    </tr>\n",
       "    <tr>\n",
       "      <th>1373796</th>\n",
       "      <td>4</td>\n",
       "      <td>@MaryKateOlsen9 Thanks for the link to Ash, MK...</td>\n",
       "    </tr>\n",
       "    <tr>\n",
       "      <th>649705</th>\n",
       "      <td>0</td>\n",
       "      <td>monumental dissapointment, tried 3 stores no i...</td>\n",
       "    </tr>\n",
       "    <tr>\n",
       "      <th>1336792</th>\n",
       "      <td>4</td>\n",
       "      <td>@xoxotreason well im doing filing, going throu...</td>\n",
       "    </tr>\n",
       "    <tr>\n",
       "      <th>1270184</th>\n",
       "      <td>4</td>\n",
       "      <td>@Taphophile_au chili pumpkin soup sounds prett...</td>\n",
       "    </tr>\n",
       "    <tr>\n",
       "      <th>1568886</th>\n",
       "      <td>4</td>\n",
       "      <td>eating a bag of wheat thins all by myself. how...</td>\n",
       "    </tr>\n",
       "  </tbody>\n",
       "</table>\n",
       "<p>200000 rows × 2 columns</p>\n",
       "</div>"
      ],
      "text/plain": [
       "         target                                               text\n",
       "1171434       4  @davebaldwin you can create groups in PB Lite ...\n",
       "499841        0  @fErNniii yep, our home computer is broke, so ...\n",
       "315692        0  @ryszu I'm happy to submit patches for broken ...\n",
       "1276663       4                                     GoodNight All \n",
       "1581913       4                        jonas brothers was amazing \n",
       "...         ...                                                ...\n",
       "1373796       4  @MaryKateOlsen9 Thanks for the link to Ash, MK...\n",
       "649705        0  monumental dissapointment, tried 3 stores no i...\n",
       "1336792       4  @xoxotreason well im doing filing, going throu...\n",
       "1270184       4  @Taphophile_au chili pumpkin soup sounds prett...\n",
       "1568886       4  eating a bag of wheat thins all by myself. how...\n",
       "\n",
       "[200000 rows x 2 columns]"
      ]
     },
     "execution_count": 34,
     "metadata": {},
     "output_type": "execute_result"
    }
   ],
   "source": [
    "data.drop(['ids', 'date', 'flag','user'], axis = 1)\n",
    "#These columns cannot be used for analysis."
   ]
  },
  {
   "cell_type": "code",
   "execution_count": 35,
   "id": "8aecd1b8",
   "metadata": {},
   "outputs": [],
   "source": [
    "data['target']=data['target'].replace(4,1)\n",
    "#Here 4 represents +ve sentiment, it is not a measure so to make things easy I am converting it \n",
    "#into a binary classification."
   ]
  },
  {
   "cell_type": "code",
   "execution_count": 36,
   "id": "329789c1",
   "metadata": {},
   "outputs": [],
   "source": [
    "#Spliting the data into target and features\n",
    "X = data[\"text\"]\n",
    "y = np.array(data[\"target\"])"
   ]
  },
  {
   "cell_type": "code",
   "execution_count": 37,
   "id": "9811ba55",
   "metadata": {},
   "outputs": [
    {
     "data": {
      "text/plain": [
       "'@fErNniii yep, our home computer is broke, so I have to share mine.  '"
      ]
     },
     "execution_count": 37,
     "metadata": {},
     "output_type": "execute_result"
    }
   ],
   "source": [
    "X.iloc[1]\n",
    "#This is the first line of our data."
   ]
  },
  {
   "cell_type": "code",
   "execution_count": 38,
   "id": "4d0d1599",
   "metadata": {},
   "outputs": [],
   "source": [
    "#defining functions used for cleaning the data\n",
    "def text_splitting(text): #used to split words based on white spaces\n",
    "    words = text.split()\n",
    "    return words\n",
    "\n",
    "def lower_case(words): #converting texts to lower case (for uniformity)\n",
    "    words = [word.lower() for word in words]\n",
    "    return words\n",
    "\n",
    "def remove_punctuation(words): #used to remove punctuation marks\n",
    "    reg_punc = re.compile('[%s]' % re.escape(string.punctuation)) #The regex used to remove punctuations.\n",
    "    stripped_words = [reg_punc.sub('', w) for w in words]\n",
    "    return stripped_words\n",
    "\n",
    "def only_alphabets(stripped_words): # removing all digits / storing only alphabets for training\n",
    "    stripped_words = [word for word in stripped_words if word.isalpha()]\n",
    "    return stripped_words\n",
    "\n",
    "def remove_stopwords(words): #removing frequently used words such as and, of, is. as. etc (stop words)\n",
    "    stop_words = set(stopwords.words('english'))\n",
    "    words = [w for w in words if not w in stop_words]\n",
    "    return words\n",
    "\n",
    "def to_sentence(words): #joining split words into a sentence\n",
    "    return ' '.join(words)\n",
    "\n",
    "def remove_noise(text):\n",
    "    words = text_splitting(text)\n",
    "    words = lower_case(words)\n",
    "    words = remove_punctuation(words)\n",
    "    words = only_alphabets(words)\n",
    "    words = remove_stopwords(words)\n",
    "    return to_sentence(words)"
   ]
  },
  {
   "cell_type": "code",
   "execution_count": 39,
   "id": "bc45f799",
   "metadata": {},
   "outputs": [
    {
     "data": {
      "text/plain": [
       "1171434    davebaldwin create groups pb lite shiftclick u...\n",
       "499841           fernniii yep home computer broke share mine\n",
       "315692     ryszu im happy submit patches broken tests fee...\n",
       "1276663                                            goodnight\n",
       "1581913                               jonas brothers amazing\n",
       "Name: text, dtype: object"
      ]
     },
     "execution_count": 39,
     "metadata": {},
     "output_type": "execute_result"
    }
   ],
   "source": [
    "#applying all functions to the features, training and testing data.\n",
    "X = X.apply(remove_noise)\n",
    "X.head()"
   ]
  },
  {
   "cell_type": "code",
   "execution_count": 41,
   "id": "358f38ff",
   "metadata": {},
   "outputs": [],
   "source": [
    "#splittng the data\n",
    "X_temp, X_test, y_temp, y_test = train_test_split(X, y, test_size = 0.20, random_state = 272,\n",
    "                                                           stratify = y)\n",
    "X_train, X_val, y_train, y_val = train_test_split(X_temp, y_temp, test_size = 0.2, random_state = 272,\n",
    "                                                 stratify = y_temp)"
   ]
  },
  {
   "cell_type": "code",
   "execution_count": 42,
   "id": "4bffc90d",
   "metadata": {},
   "outputs": [
    {
     "data": {
      "text/plain": [
       "116608"
      ]
     },
     "execution_count": 42,
     "metadata": {},
     "output_type": "execute_result"
    }
   ],
   "source": [
    "# creating tokens for training the model\n",
    "tokenizer = Tokenizer(num_words = 20000, oov_token = \"<OOV>\")\n",
    "tokenizer.fit_on_texts(X_train)\n",
    "vocab_size = len(tokenizer.word_index)+1\n",
    "vocab_size"
   ]
  },
  {
   "cell_type": "code",
   "execution_count": 47,
   "id": "779e0fab",
   "metadata": {},
   "outputs": [
    {
     "data": {
      "text/plain": [
       "134"
      ]
     },
     "execution_count": 47,
     "metadata": {},
     "output_type": "execute_result"
    }
   ],
   "source": [
    "#determing the longest text in the training and testing data for the model parameters\n",
    "maxlen = max(len(x) for x in X_train)\n",
    "X_train.head()\n",
    "maxlen2 = max(len(x) for x in X_test)\n",
    "maxlen\n",
    "maxlen3 = max(len(x) for x in X_val)\n",
    "maxlen"
   ]
  },
  {
   "cell_type": "code",
   "execution_count": 48,
   "id": "6910d6ea",
   "metadata": {},
   "outputs": [],
   "source": [
    "#creating sequences for training and testing\n",
    "training_sequence = tokenizer.texts_to_sequences(X_train)\n",
    "training_sequence_padded = pad_sequences(training_sequence, maxlen = maxlen, padding = 'post', \n",
    "                                         truncating = 'post')\n",
    "\n",
    "test_sequence = tokenizer.texts_to_sequences(X_test)\n",
    "test_sequence_padded = pad_sequences(test_sequence, maxlen = maxlen, padding = 'post', \n",
    "                                         truncating = 'post')\n",
    "\n",
    "val_sequence = tokenizer.texts_to_sequences(X_val)\n",
    "val_sequence_padded = pad_sequences(val_sequence, maxlen = maxlen, padding = 'post', \n",
    "                                         truncating = 'post')"
   ]
  },
  {
   "cell_type": "code",
   "execution_count": 53,
   "id": "e250be5d",
   "metadata": {},
   "outputs": [],
   "source": [
    "#Creating the model\n",
    "model = tf.keras.Sequential([\n",
    "        tf.keras.layers.Embedding(vocab_size+1, 32, input_length = maxlen),\n",
    "        tf.keras.layers.Bidirectional(tf.keras.layers.LSTM(16)),\n",
    "        tf.keras.layers.Flatten(),\n",
    "        tf.keras.layers.BatchNormalization(),\n",
    "        tf.keras.layers.Dropout(0.30),\n",
    "        tf.keras.layers.Dense(32,activation='relu'),\n",
    "        tf.keras.layers.BatchNormalization(),\n",
    "        tf.keras.layers.Dropout(0.30),\n",
    "        tf.keras.layers.Dense(8,activation='relu'),\n",
    "        tf.keras.layers.Dense(1,activation='sigmoid'),\n",
    "    ])\n",
    "\n",
    "model.compile(loss = 'binary_crossentropy',\n",
    "                optimizer = 'adam',\n",
    "                metrics = ['accuracy'])\n"
   ]
  },
  {
   "cell_type": "code",
   "execution_count": 54,
   "id": "025a609f",
   "metadata": {},
   "outputs": [
    {
     "name": "stdout",
     "output_type": "stream",
     "text": [
      "Model: \"sequential_2\"\n",
      "_________________________________________________________________\n",
      " Layer (type)                Output Shape              Param #   \n",
      "=================================================================\n",
      " embedding_3 (Embedding)     (None, 134, 32)           3731488   \n",
      "                                                                 \n",
      " bidirectional_3 (Bidirectio  (None, 32)               6272      \n",
      " nal)                                                            \n",
      "                                                                 \n",
      " flatten_3 (Flatten)         (None, 32)                0         \n",
      "                                                                 \n",
      " batch_normalization_5 (Batc  (None, 32)               128       \n",
      " hNormalization)                                                 \n",
      "                                                                 \n",
      " dropout_5 (Dropout)         (None, 32)                0         \n",
      "                                                                 \n",
      " dense_6 (Dense)             (None, 32)                1056      \n",
      "                                                                 \n",
      " batch_normalization_6 (Batc  (None, 32)               128       \n",
      " hNormalization)                                                 \n",
      "                                                                 \n",
      " dropout_6 (Dropout)         (None, 32)                0         \n",
      "                                                                 \n",
      " dense_7 (Dense)             (None, 8)                 264       \n",
      "                                                                 \n",
      " dense_8 (Dense)             (None, 1)                 9         \n",
      "                                                                 \n",
      "=================================================================\n",
      "Total params: 3,739,345\n",
      "Trainable params: 3,739,217\n",
      "Non-trainable params: 128\n",
      "_________________________________________________________________\n"
     ]
    }
   ],
   "source": [
    "model.summary()"
   ]
  },
  {
   "cell_type": "code",
   "execution_count": 55,
   "id": "cb390a6f",
   "metadata": {},
   "outputs": [
    {
     "name": "stdout",
     "output_type": "stream",
     "text": [
      "Epoch 1/10\n",
      "4000/4000 [==============================] - 95s 23ms/step - loss: 0.5472 - accuracy: 0.7218 - val_loss: 0.9382 - val_accuracy: 0.5461\n",
      "Epoch 2/10\n",
      "4000/4000 [==============================] - 102s 26ms/step - loss: 0.4663 - accuracy: 0.7804 - val_loss: 0.4960 - val_accuracy: 0.7571\n",
      "Epoch 3/10\n",
      "4000/4000 [==============================] - 94s 23ms/step - loss: 0.4298 - accuracy: 0.7997 - val_loss: 0.4948 - val_accuracy: 0.7671\n",
      "Epoch 4/10\n",
      "4000/4000 [==============================] - 94s 23ms/step - loss: 0.3965 - accuracy: 0.8165 - val_loss: 0.5049 - val_accuracy: 0.7654\n",
      "Epoch 5/10\n",
      "4000/4000 [==============================] - 94s 23ms/step - loss: 0.3626 - accuracy: 0.8343 - val_loss: 0.5546 - val_accuracy: 0.7600\n",
      "Epoch 6/10\n",
      "4000/4000 [==============================] - 113s 28ms/step - loss: 0.3344 - accuracy: 0.8475 - val_loss: 0.5607 - val_accuracy: 0.7536\n",
      "Epoch 7/10\n",
      "4000/4000 [==============================] - 114s 28ms/step - loss: 0.3099 - accuracy: 0.8592 - val_loss: 0.6511 - val_accuracy: 0.7517\n",
      "Epoch 8/10\n",
      "4000/4000 [==============================] - 111s 28ms/step - loss: 0.2888 - accuracy: 0.8691 - val_loss: 0.6210 - val_accuracy: 0.7428\n",
      "Epoch 9/10\n",
      "4000/4000 [==============================] - 112s 28ms/step - loss: 0.2723 - accuracy: 0.8784 - val_loss: 0.6739 - val_accuracy: 0.7449\n",
      "Epoch 10/10\n",
      "4000/4000 [==============================] - 97s 24ms/step - loss: 0.2566 - accuracy: 0.8871 - val_loss: 0.6799 - val_accuracy: 0.7451\n"
     ]
    }
   ],
   "source": [
    "# Training the model we created above. \n",
    "history =    model.fit(training_sequence_padded, y_train, \n",
    "                       validation_data = (val_sequence_padded, y_val),\n",
    "                                               epochs = 10)"
   ]
  },
  {
   "cell_type": "code",
   "execution_count": 56,
   "id": "5df44c7d",
   "metadata": {},
   "outputs": [
    {
     "name": "stdout",
     "output_type": "stream",
     "text": [
      "1250/1250 [==============================] - 6s 5ms/step - loss: 0.6851 - accuracy: 0.7416\n"
     ]
    },
    {
     "data": {
      "image/png": "[encoded data removed]",
      "text/plain": [
       "<Figure size 432x288 with 1 Axes>"
      ]
     },
     "metadata": {},
     "output_type": "display_data"
    },
    {
     "data": {
      "image/png": "[encoded data removed]",
      "text/plain": [
       "<Figure size 432x288 with 1 Axes>"
      ]
     },
     "metadata": {},
     "output_type": "display_data"
    },
    {
     "name": "stdout",
     "output_type": "stream",
     "text": [
      "Accuracy on testing set =  0.7415500283241272\n"
     ]
    }
   ],
   "source": [
    "loss, accuracy = model.evaluate(test_sequence_padded, y_test)\n",
    "#plotting accuracy and loss for each epoch\n",
    "def plot_graphs(model, string):\n",
    "  plt.plot(model.history[string])\n",
    "  plt.plot(model.history['val_'+string])\n",
    "  plt.xlabel(\"Epochs\")\n",
    "  plt.ylabel(string)\n",
    "  plt.legend([string, 'val_'+string])\n",
    "  plt.show()\n",
    "  \n",
    "# Plot the accuracy and loss\n",
    "plot_graphs(history, \"accuracy\")\n",
    "plot_graphs(history, \"loss\")\n",
    "print(\"Accuracy on testing set = \", accuracy)"
   ]
  },
  {
   "cell_type": "markdown",
   "id": "8f4e72a4",
   "metadata": {},
   "source": [
    "As shown by the model, it performs well on unseen clean data, with an accuracy of 74.15%. The model's accuracy levels off at 75% for the training data indicating the model maybe overfitting the data and the hyperparameters need to be tuned more and the quality of the data must be improved to get a better accuracy from the model."
   ]
  },
  {
   "cell_type": "code",
   "execution_count": null,
   "id": "faba2f4b",
   "metadata": {},
   "outputs": [],
   "source": []
  }
 ],
 "metadata": {
  "kernelspec": {
   "display_name": "Python 3 (ipykernel)",
   "language": "python",
   "name": "python3"
  },
  "language_info": {
   "codemirror_mode": {
    "name": "ipython",
    "version": 3
   },
   "file_extension": ".py",
   "mimetype": "text/x-python",
   "name": "python",
   "nbconvert_exporter": "python",
   "pygments_lexer": "ipython3",
   "version": "3.9.12"
  }
 },
 "nbformat": 4,
 "nbformat_minor": 5
}
